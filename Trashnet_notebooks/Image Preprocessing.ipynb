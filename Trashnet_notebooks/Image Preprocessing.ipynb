{
 "cells": [
  {
   "cell_type": "code",
   "execution_count": null,
   "id": "464b5fd1",
   "metadata": {},
   "outputs": [],
   "source": [
    "import os\n",
    "base_dir = r\"C:\\Users\\Reah\\Downloads\\new3_trashnet\"\n",
    "hm = {}\n",
    "total = 0\n",
    "for sub_dir in os.listdir(base_dir):\n",
    "    target_dir = base_dir + '/' + sub_dir\n",
    "    files = os.listdir(target_dir)\n",
    "    count = len(files)\n",
    "    total += count\n",
    "    hm[sub_dir] = count\n",
    "print(hm)"
   ]
  }
 ],
 "metadata": {
  "kernelspec": {
   "display_name": "Python 3 (ipykernel)",
   "language": "python",
   "name": "python3"
  },
  "language_info": {
   "codemirror_mode": {
    "name": "ipython",
    "version": 3
   },
   "file_extension": ".py",
   "mimetype": "text/x-python",
   "name": "python",
   "nbconvert_exporter": "python",
   "pygments_lexer": "ipython3",
   "version": "3.9.7"
  }
 },
 "nbformat": 4,
 "nbformat_minor": 5
}
